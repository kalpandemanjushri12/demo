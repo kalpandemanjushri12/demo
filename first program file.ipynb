{
 "cells": [
  {
   "cell_type": "markdown",
   "id": "e46d3f14",
   "metadata": {},
   "source": [
    "# python for bioinformatics"
   ]
  },
  {
   "cell_type": "code",
   "execution_count": 5,
   "id": "34099175",
   "metadata": {},
   "outputs": [
    {
     "name": "stdout",
     "output_type": "stream",
     "text": [
      "dy hellopeople\n"
     ]
    }
   ],
   "source": [
    "g=\"hello\";h=\"people\"\n",
    "h=g+h\n",
    "print(\"dy\"+\" \"+h)"
   ]
  },
  {
   "cell_type": "code",
   "execution_count": 1,
   "id": "cb136ae2",
   "metadata": {},
   "outputs": [
    {
     "name": "stdout",
     "output_type": "stream",
     "text": [
      "57\n"
     ]
    },
    {
     "data": {
      "text/plain": [
       "[None]"
      ]
     },
     "execution_count": 1,
     "metadata": {},
     "output_type": "execute_result"
    }
   ],
   "source": [
    "a=12;b=45\n",
    "c=a+b\n",
    "[print(c)]"
   ]
  },
  {
   "cell_type": "code",
   "execution_count": 12,
   "id": "6d295cda",
   "metadata": {},
   "outputs": [
    {
     "name": "stdout",
     "output_type": "stream",
     "text": [
      "3\n"
     ]
    }
   ],
   "source": [
    "seq=['A','A','T','U','A']\n",
    "DNA=seq.count(\"A\")\n",
    "print(DNA)"
   ]
  },
  {
   "cell_type": "code",
   "execution_count": 7,
   "id": "2ca41b9a",
   "metadata": {},
   "outputs": [
    {
     "name": "stdout",
     "output_type": "stream",
     "text": [
      "3\n",
      "6\n"
     ]
    }
   ],
   "source": [
    "dna=\"ATGCTGCATGCCCCC\"\n",
    "g_count=dna.count(\"G\")\n",
    "c_count=dna.count(\"C\")\n",
    "print(g_count);print(c_count)"
   ]
  },
  {
   "cell_type": "code",
   "execution_count": 9,
   "id": "3cba29de",
   "metadata": {},
   "outputs": [
    {
     "name": "stdout",
     "output_type": "stream",
     "text": [
      "14\n"
     ]
    }
   ],
   "source": [
    "total=len(dna)\n",
    "print(total)"
   ]
  },
  {
   "cell_type": "code",
   "execution_count": 10,
   "id": "82633e50",
   "metadata": {},
   "outputs": [
    {
     "name": "stdout",
     "output_type": "stream",
     "text": [
      "9\n"
     ]
    }
   ],
   "source": [
    "total_gc=g_count+t_count\n",
    "print(total_gc)"
   ]
  },
  {
   "cell_type": "code",
   "execution_count": 11,
   "id": "b79b9181",
   "metadata": {},
   "outputs": [
    {
     "name": "stdout",
     "output_type": "stream",
     "text": [
      "155.55555555555557\n"
     ]
    }
   ],
   "source": [
    "gc_per=total/total_gc*100\n",
    "print(gc_per)"
   ]
  },
  {
   "cell_type": "code",
   "execution_count": 17,
   "id": "826835bf",
   "metadata": {},
   "outputs": [
    {
     "name": "stdout",
     "output_type": "stream",
     "text": [
      "5.0\n"
     ]
    }
   ],
   "source": [
    " #for k-mers non-overlapping\n",
    "k=3\n",
    "dna=\"ATGCTGCATGCCCCC\"\n",
    "m=len(dna)/k\n",
    "print(m)"
   ]
  },
  {
   "cell_type": "code",
   "execution_count": 18,
   "id": "237de331",
   "metadata": {},
   "outputs": [
    {
     "name": "stdout",
     "output_type": "stream",
     "text": [
      "0 ATG\n",
      "1 TGC\n",
      "2 GCT\n",
      "3 CTG\n",
      "4 TGC\n",
      "5 GCA\n",
      "6 CAT\n",
      "7 ATG\n",
      "8 TGC\n",
      "9 GCC\n",
      "10 CCC\n",
      "11 CCC\n",
      "12 CCC\n"
     ]
    }
   ],
   "source": [
    "#for overlapping k-mers\n",
    "for i in range(len(dna)-k+1):\n",
    "    print(i,dna[i:i+k])"
   ]
  },
  {
   "cell_type": "code",
   "execution_count": null,
   "id": "59f2f00d",
   "metadata": {},
   "outputs": [],
   "source": []
  }
 ],
 "metadata": {
  "kernelspec": {
   "display_name": "Python 3 (ipykernel)",
   "language": "python",
   "name": "python3"
  },
  "language_info": {
   "codemirror_mode": {
    "name": "ipython",
    "version": 3
   },
   "file_extension": ".py",
   "mimetype": "text/x-python",
   "name": "python",
   "nbconvert_exporter": "python",
   "pygments_lexer": "ipython3",
   "version": "3.11.5"
  }
 },
 "nbformat": 4,
 "nbformat_minor": 5
}
